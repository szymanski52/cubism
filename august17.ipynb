{
  "nbformat": 4,
  "nbformat_minor": 0,
  "metadata": {
    "colab": {
      "name": "august17(w).ipynb",
      "provenance": [],
      "collapsed_sections": [],
      "authorship_tag": "ABX9TyPVrGHaEm7C+oDLx/KoDwXV",
      "include_colab_link": true
    },
    "kernelspec": {
      "name": "python3",
      "display_name": "Python 3"
    },
    "language_info": {
      "name": "python"
    },
    "accelerator": "GPU"
  },
  "cells": [
    {
      "cell_type": "markdown",
      "metadata": {
        "id": "view-in-github",
        "colab_type": "text"
      },
      "source": [
        "<a href=\"https://colab.research.google.com/github/szymanski52/cubism/blob/main/august17.ipynb\" target=\"_parent\"><img src=\"https://colab.research.google.com/assets/colab-badge.svg\" alt=\"Open In Colab\"/></a>"
      ]
    },
    {
      "cell_type": "markdown",
      "metadata": {
        "id": "xFzFB1hi8eVQ"
      },
      "source": [
        "#Dataset"
      ]
    },
    {
      "cell_type": "code",
      "metadata": {
        "id": "Ds8IspgB4c1X"
      },
      "source": [
        "from torchvision import transforms, datasets\n",
        "import os\n",
        "import zipfile\n",
        "import torch.nn as nn\n",
        "import gdown\n",
        "from matplotlib import pyplot as plt\n",
        "from torch.utils.data import Dataset\n",
        "from natsort import natsorted\n",
        "from PIL import Image\n",
        "from google.colab import files\n",
        "from torchvision import datasets, models, transforms\n",
        "import cv2 as cv\n",
        "import numpy as np\n",
        "import torch\n",
        "from torch.nn.functional import relu6 as relu6"
      ],
      "execution_count": 50,
      "outputs": []
    },
    {
      "cell_type": "code",
      "metadata": {
        "id": "dtR0_3sSDiW4",
        "colab": {
          "base_uri": "https://localhost:8080/"
        },
        "outputId": "b1c05351-e724-4dea-b38f-8e1667018538"
      },
      "source": [
        "from google.colab import drive\n",
        "drive.mount('/content/drive')"
      ],
      "execution_count": 51,
      "outputs": [
        {
          "output_type": "stream",
          "text": [
            "Drive already mounted at /content/drive; to attempt to forcibly remount, call drive.mount(\"/content/drive\", force_remount=True).\n"
          ],
          "name": "stdout"
        }
      ]
    },
    {
      "cell_type": "code",
      "metadata": {
        "id": "BkNPsMrK6z0C"
      },
      "source": [
        "!unzip drive/MyDrive/fashion.zip -d fashion\n",
        "!rm -r fashion/__MACOSX"
      ],
      "execution_count": null,
      "outputs": []
    },
    {
      "cell_type": "code",
      "metadata": {
        "id": "MTIU3Gna65Cz"
      },
      "source": [
        "class CannyDataset(Dataset):\n",
        "  def __init__(self, root_dir, transform=None):\n",
        "    image_names = os.listdir(root_dir)\n",
        "    self.def_img = '01361d9b8bfdcc0c6801df23d60bc692.jpg'\n",
        "    self.root_dir = root_dir\n",
        "    self.transform = transform\n",
        "    self.image_names = natsorted(image_names)\n",
        "\n",
        "  def __len__(self): \n",
        "    return len(self.image_names)\n",
        "\n",
        "  def __getitem__(self, idx):\n",
        "    try:\n",
        "        img_path = os.path.join(self.root_dir, self.image_names[idx])\n",
        "        img = cv.imread(img_path)\n",
        "        img = cv.cvtColor(img, cv.COLOR_BGR2RGB)\n",
        "    except:\n",
        "        img_path = os.path.join(self.root_dir, self.def_img)\n",
        "        img = cv.imread(img_path)\n",
        "        img = cv.cvtColor(img, cv.COLOR_BGR2RGB)\n",
        "    canny = cv.Canny(img, 350, 400)\n",
        "    canny = cv.cvtColor(canny, cv.COLOR_BGR2RGB)\n",
        "    if self.transform:\n",
        "        img = self.transform(Image.fromarray(img))\n",
        "        canny = self.transform(Image.fromarray(canny))\n",
        "    canny = torch.clamp(canny, 0, 1e-7) * 1e+7\n",
        "    return img, canny"
      ],
      "execution_count": 53,
      "outputs": []
    },
    {
      "cell_type": "code",
      "metadata": {
        "id": "qC8peXg77Vs_"
      },
      "source": [
        "ngpu = 1\n",
        "device = torch.device('cuda:0' if (\n",
        "    torch.cuda.is_available() and ngpu > 0) else 'cpu')\n",
        "image_size = 256\n",
        "transform=transforms.Compose([\n",
        "    transforms.Resize(image_size),\n",
        "    transforms.ToTensor(),\n",
        "])\n",
        "canny_dataset = CannyDataset(f'fashion/fashion1024', transform)\n",
        "\n",
        "batch_size = 40\n",
        "num_workers = 0 if device.type == 'cuda' else 2\n",
        "pin_memory = True if device.type == 'cuda' else False\n",
        "\n",
        "canny_dataloader = torch.utils.data.DataLoader(canny_dataset,\n",
        "                                               batch_size=batch_size,\n",
        "                                               num_workers=num_workers,\n",
        "                                               pin_memory=pin_memory,\n",
        "                                               shuffle=True,\n",
        "                                               drop_last=True\n",
        "                                              )"
      ],
      "execution_count": 54,
      "outputs": []
    },
    {
      "cell_type": "code",
      "metadata": {
        "id": "DOYv3cv27p1Q"
      },
      "source": [
        "item = canny_dataset.__getitem__(11390)\n",
        "im = item[0]\n",
        "target = item[1]"
      ],
      "execution_count": 107,
      "outputs": []
    },
    {
      "cell_type": "code",
      "metadata": {
        "id": "EjRBr53oKwHC",
        "colab": {
          "base_uri": "https://localhost:8080/",
          "height": 273
        },
        "outputId": "a10a4625-c26b-4ed5-f4fc-d47717a367f9"
      },
      "source": [
        "transforms.ToPILImage()(im)"
      ],
      "execution_count": 108,
      "outputs": [
        {
          "output_type": "execute_result",
          "data": {
            "image/png": "[encoded data removed]",
            "text/plain": [
              "<PIL.Image.Image image mode=RGB size=256x256 at 0x7F86DA61BA90>"
            ]
          },
          "metadata": {
            "tags": []
          },
          "execution_count": 108
        }
      ]
    },
    {
      "cell_type": "code",
      "metadata": {
        "id": "YkwbySjmhIRL",
        "colab": {
          "base_uri": "https://localhost:8080/",
          "height": 273
        },
        "outputId": "e33eb532-198a-466f-fe17-ca88ed4e4838"
      },
      "source": [
        "transforms.ToPILImage()(target)"
      ],
      "execution_count": 109,
      "outputs": [
        {
          "output_type": "execute_result",
          "data": {
            "image/png": "[encoded data removed]",
            "text/plain": [
              "<PIL.Image.Image image mode=RGB size=256x256 at 0x7F86DA61B990>"
            ]
          },
          "metadata": {
            "tags": []
          },
          "execution_count": 109
        }
      ]
    },
    {
      "cell_type": "markdown",
      "metadata": {
        "id": "x76tLNf28uRF"
      },
      "source": [
        "#Model"
      ]
    },
    {
      "cell_type": "code",
      "metadata": {
        "id": "dbxEq-8DgD0n"
      },
      "source": [
        "def draw_line(c, out_size = 256, width = 1):\n",
        "    e = torch.Tensor([[i for i in range(1,out_size+1)]]).to(device)\n",
        "    e = e.repeat(out_size,1)\n",
        "    e_x = e\n",
        "    e_y = e.T\n",
        "    if (c[1][1] - c[0][1]) * (c[1][0] - c[0][0]):\n",
        "        kf = abs((c[1][1] - c[0][1]) / (c[1][0] - c[0][0]))\n",
        "        if kf <= 1:\n",
        "            if(c[1][0] < c[0][0]) and (c[1][1] < c[0][1]):\n",
        "                d = width - torch.abs(e_y - (c[0][1] - c[1][1]) * (e_x - c[1][0]) / (c[0][0] - c[1][0]) - c[1][1])\n",
        "                b1 = e_x - c[1][0] + 1\n",
        "                b1 = torch.clamp(b1, 0, 1)\n",
        "                b2 = c[0][0] - e_x + 1\n",
        "                b2 = torch.clamp(b2, 0, 1)\n",
        "            else:\n",
        "                if (c[0][0] > c[1][0]) and (c[0][1] < c[1][1]):\n",
        "                    d = width - torch.abs(e_y - (c[0][1] - c[1][1]) * (e_x - c[1][0]) / (c[0][0] - c[1][0]) - c[1][1])\n",
        "                    b1 = e_x - c[1][0] + 1\n",
        "                    b1 = torch.clamp(b1, 0, 1)\n",
        "                    b2 = c[0][0] - e_x + 1\n",
        "                    b2 = torch.clamp(b2, 0, 1)\n",
        "                else:\n",
        "                    d = width - torch.abs(e_y - (c[1][1] - c[0][1]) * (e_x - c[0][0]) / (c[1][0] - c[0][0]) - c[0][1])\n",
        "                    b1 = e_x - c[0][0] + 1\n",
        "                    b1 = torch.clamp(b1, 0, 1)\n",
        "                    b2 = c[1][0] - e_x + 1\n",
        "                    b2 = torch.clamp(b2, 0, 1)\n",
        "        else:\n",
        "            if(c[1][0] < c[0][0]) and (c[1][1] < c[0][1]):\n",
        "                d = width - torch.abs(e_x - (c[0][0] - c[1][0]) * (e_y - c[1][1]) / (c[0][1] - c[1][1]) - c[1][0])\n",
        "                b1 = e_y - c[1][1] + 1\n",
        "                b1 = torch.clamp(b1, 0, 1)\n",
        "                b2 = c[0][1] - e_y + 1\n",
        "                b2 = torch.clamp(b2, 0, 1)\n",
        "            else:\n",
        "                if (c[0][0] < c[1][0]) and (c[0][1] > c[1][1]):\n",
        "                    d = width - torch.abs(e_x - (c[0][0] - c[1][0]) * (e_y - c[1][1]) / (c[0][1] - c[1][1]) - c[1][0])\n",
        "                    b1 = e_y - c[1][1] + 1\n",
        "                    b1 = torch.clamp(b1, 0, 1)\n",
        "                    b2 = c[0][1] - e_y + 1\n",
        "                    b2 = torch.clamp(b2, 0, 1)\n",
        "                else:\n",
        "                    d = width - torch.abs(e_x - (c[1][0] - c[0][0]) * (e_y - c[0][1]) / (c[1][1] - c[0][1]) - c[0][0])\n",
        "                    b1 = e_y - c[0][1] + 1\n",
        "                    b1 = torch.clamp(b1, 0, 1)\n",
        "                    b2 = c[1][1] - e_y + 1\n",
        "                    b2 = torch.clamp(b2, 0, 1)\n",
        "    elif not (c[1][0] - c[0][0]):\n",
        "        d = width - torch.abs(e_x - c[0][0])\n",
        "        b1 = max(c[0][1], c[1][1]) - e_y + 2\n",
        "        b1 = torch.clamp(b1, 0, 1)\n",
        "        b2 = e_y - min(c[0][1], c[1][1])\n",
        "        b2 = torch.clamp(b2, 0, 1)\n",
        "    else:\n",
        "        if c[0][0] > c[1][0]:\n",
        "            d = width - torch.abs(e_y - c[0][1])\n",
        "            b1 = e_x - c[1][0] + 1\n",
        "            b1 = torch.clamp(b1, 0, 1)\n",
        "            b2 = c[0][0] - e_x + 1\n",
        "            b2 = torch.clamp(b2, 0, 1)\n",
        "        else:\n",
        "            d = width - torch.abs(e_y - c[1][1])\n",
        "            b1 = e_x - c[0][0] + 1\n",
        "            b1 = torch.clamp(b1, 0, 1)\n",
        "            b2 = c[1][0] - e_x + 1\n",
        "            b2 = torch.clamp(b2, 0, 1)\n",
        "    k = d * (d > 0)\n",
        "    f = (k * b1 * b2).clamp(0, 1e-5) * 1e+5\n",
        "    return f"
      ],
      "execution_count": 58,
      "outputs": []
    },
    {
      "cell_type": "code",
      "metadata": {
        "id": "VguXKqTtVfE6"
      },
      "source": [
        "from torch.nn import Module\n",
        "from typing import Tuple, Union\n",
        "from torch import Tensor\n",
        "from torch.types import _size\n",
        "\n",
        "\n",
        "class Render(Module):\n",
        "    __constants__ = ['out_size', 'line_w']\n",
        "    out_size: int\n",
        "    line_w: int\n",
        "\n",
        "    def __init__(self, out_size: int = 256, line_w: int = 10) -> None:\n",
        "        super(Render, self).__init__()\n",
        "        self.out_size = out_size\n",
        "        self.line_w = line_w\n",
        "\n",
        "    def forward(self, input: Tensor) -> Tensor:\n",
        "        points = input.reshape(input.shape[0],20,2,2)\n",
        "        silhouettes = torch.Tensor().to(device)\n",
        "        for k in points:\n",
        "            silhouette = torch.zeros((3, self.out_size, self.out_size)).to(device)\n",
        "            for l in k:\n",
        "                s = draw_line(l, width=self.line_w)\n",
        "                silhouette[0] += s\n",
        "                silhouette[1] += s\n",
        "                silhouette[2] += s\n",
        "            silhouettes = torch.cat((silhouettes, silhouette))\n",
        "        silhouettes = silhouettes.resize(input.shape[0], 3,\n",
        "                                         self.out_size,\n",
        "                                         self.out_size)  \n",
        "        return silhouettes\n"
      ],
      "execution_count": 59,
      "outputs": []
    },
    {
      "cell_type": "code",
      "metadata": {
        "id": "i_xbPmZqwrfV"
      },
      "source": [
        "class LinesGenerator(nn.Module):\n",
        "    def __init__(self, lines_n):\n",
        "        self.points = None\n",
        "        super(LinesGenerator, self).__init__()\n",
        "\n",
        "        self.resnet = models.resnet18(pretrained=True)\n",
        "        num_ftrs = self.resnet.fc.in_features\n",
        "\n",
        "        for i in self.resnet.parameters():\n",
        "            i.requires_grad = False\n",
        "        \n",
        "        self.resnet.fc = nn.Linear(num_ftrs, num_ftrs)    \n",
        "\n",
        "        self.fc1 = nn.Linear(num_ftrs, 1000)\n",
        "        self.relu4 = nn.LeakyReLU(0.2, inplace=True)\n",
        "        self.bn11 = nn.BatchNorm1d(1000)\n",
        "        self.fc2 = nn.Linear(1000, 750)\n",
        "        self.relu5 = nn.LeakyReLU(0.2, inplace=True)\n",
        "        self.bn12 = nn.BatchNorm1d(750)\n",
        "        self.dropout3 = nn.Dropout(0.5)\n",
        "\n",
        "        self.fc3 = nn.Linear(750, 500)\n",
        "        self.relu6 = nn.LeakyReLU(0.2, inplace=True)\n",
        "        self.bn13 = nn.BatchNorm1d(500)\n",
        "        self.fc4 = nn.Linear(500, 250)\n",
        "        self.relu7 = nn.LeakyReLU(0.2, inplace=True)\n",
        "        self.bn14 = nn.BatchNorm1d(250)\n",
        "        self.dropout4 = nn.Dropout(0.3)\n",
        "\n",
        "        self.fc7 = nn.Linear(250, lines_n * 4)\n",
        "        self.relu10 = nn.LeakyReLU(0.2, inplace=True)\n",
        "        self.bn17 = nn.BatchNorm1d(lines_n * 4)\n",
        "        self.sigmoid = nn.Sigmoid()\n",
        "        self.render = Render(line_w=2)\n",
        "\n",
        "    def forward(self, X):\n",
        "        x = self.resnet(X)\n",
        "        x = self.fc1(x)\n",
        "        x = self.relu4(x)\n",
        "        x = self.bn11(x)\n",
        "        x = self.fc2(x)\n",
        "        x = self.relu5(x)\n",
        "        x = self.bn12(x)\n",
        "        x = self.dropout3(x)\n",
        "        \n",
        "        x = self.fc3(x)\n",
        "        x = self.relu6(x)\n",
        "        x = self.bn13(x)\n",
        "        x = self.fc4(x)\n",
        "        x = self.relu7(x)\n",
        "        x = self.bn14(x)\n",
        "        x = self.dropout4(x)\n",
        "\n",
        "        x = self.fc7(x)\n",
        "        x = self.relu10(x)\n",
        "        x = self.sigmoid(x)\n",
        "        x = self.bn17(x)\n",
        "        x = self.sigmoid(x)\n",
        "        x = x * 255\n",
        "        self.points = x\n",
        "        x = self.render(x)\n",
        "        return x"
      ],
      "execution_count": 60,
      "outputs": []
    },
    {
      "cell_type": "code",
      "metadata": {
        "id": "PzduFoUiS8I8"
      },
      "source": [
        "class LinesGenerator(nn.Module):\n",
        "    def __init__(self, lines_n):\n",
        "        self.points = None\n",
        "        super(LinesGenerator, self).__init__()\n",
        "        self.conv1 = nn.Conv2d(3, 3, 4, 2, 1)\n",
        "        self.relu1 = nn.LeakyReLU(0.1, inplace=True)\n",
        "        self.dropout1 = nn.Dropout(0.5)\n",
        "        self.conv2 = nn.Conv2d(3, 3, 8, 2, 2)\n",
        "        self.bn2 = nn.BatchNorm2d(3)\n",
        "        self.bn3 = nn.BatchNorm3d(3)\n",
        "        self.relu2 = nn.LeakyReLU(0.2, inplace=True)\n",
        "        self.conv3 = nn.Conv2d(3, 3, 14, 1, 0)\n",
        "        self.relu3 = nn.LeakyReLU(0.1, inplace=True)\n",
        "        self.dropout2 = nn.Dropout(0.3)\n",
        "        self.flatten = nn.Flatten()   \n",
        "\n",
        "        self.fc1 = nn.Linear(7500, 7000)\n",
        "        self.relu2 = nn.LeakyReLU(0.2, inplace=True)\n",
        "        self.bn11 = nn.BatchNorm1d(7000)\n",
        "        self.fc2 = nn.Linear(7000, 5000)\n",
        "        self.relu5 = nn.LeakyReLU(0.2, inplace=True)\n",
        "        self.bn12 = nn.BatchNorm1d(5000)\n",
        "        self.dropout3 = nn.Dropout(0.4)\n",
        "\n",
        "        self.fc3 = nn.Linear(5000, 3000)\n",
        "        self.relu4 = nn.LeakyReLU(0.2, inplace=True)\n",
        "        self.bn13 = nn.BatchNorm1d(3000)\n",
        "        self.fc4 = nn.Linear(3000, 1000)\n",
        "        self.relu5 = nn.LeakyReLU(0.2, inplace=True)\n",
        "        self.bn14 = nn.BatchNorm1d(1000)\n",
        "        self.dropout3 = nn.Dropout(0.4)\n",
        "\n",
        "\n",
        "        self.fc7 = nn.Linear(1000, lines_n * 4)\n",
        "        self.relu10 = nn.LeakyReLU(0.1, inplace=True)\n",
        "        self.bn17 = nn.BatchNorm1d(lines_n * 4)\n",
        "        self.sigmoid = nn.Sigmoid()\n",
        "        self.render = Render(line_w=2)\n",
        "\n",
        "    def forward(self, X):\n",
        "        x = self.conv1(X)\n",
        "        x = self.relu1(x)\n",
        "        x = self.bn2(x)\n",
        "        x = self.dropout1(x)\n",
        "\n",
        "        x = self.conv2(x)\n",
        "        x = self.relu1(x)\n",
        "        x = self.bn2(x)\n",
        "        x = self.dropout2(x)\n",
        "\n",
        "        x = self.conv3(x)\n",
        "        x = self.relu1(x)\n",
        "        x = self.bn2(x)\n",
        "        x = self.flatten(x)\n",
        "\n",
        "\n",
        "        x = self.fc1(x)\n",
        "        x = self.relu2(x)\n",
        "        x = self.bn11(x)\n",
        "        x = self.dropout1(x)\n",
        "        x = self.fc2(x)\n",
        "        x = self.relu2(x)\n",
        "        x = self.bn12(x)\n",
        "        x = self.dropout3(x)\n",
        "\n",
        "        x = self.fc3(x)\n",
        "        x = self.relu1(x)\n",
        "        x = self.bn13(x)\n",
        "        x = self.dropout1(x)\n",
        "        x = self.fc4(x)\n",
        "        x = self.relu1(x)\n",
        "        x = self.bn14(x)\n",
        "        x = self.dropout3(x)\n",
        "\n",
        "        x = self.fc7(x)\n",
        "        x = self.relu10(x)\n",
        "        x = self.bn17(x)\n",
        "        x = self.sigmoid(x)\n",
        "        x = x * 255\n",
        "        self.points = x\n",
        "        x = self.render(x)\n",
        "        return x"
      ],
      "execution_count": 189,
      "outputs": []
    },
    {
      "cell_type": "code",
      "metadata": {
        "id": "1hxHlonLN9yR"
      },
      "source": [
        "model = LinesGenerator(20)\n",
        "model.cuda()\n",
        "try:\n",
        "    #print('New model')\n",
        "    state_dict = torch.load('drive/MyDrive/checkpoint2.pth')\n",
        "    model.load_state_dict(state_dict)\n",
        "except FileNotFoundError:\n",
        "    print('Model load has failed')"
      ],
      "execution_count": 223,
      "outputs": []
    },
    {
      "cell_type": "markdown",
      "metadata": {
        "id": "g26CzJUKiRzT"
      },
      "source": [
        "#Discriminator"
      ]
    },
    {
      "cell_type": "code",
      "metadata": {
        "id": "VDAv1zjLiUyj"
      },
      "source": [
        "class ConvBlock(nn.Module):\n",
        "\n",
        "    def __init__(self,\n",
        "                 in_channels,\n",
        "                 out_channels,\n",
        "                 kernel_size,\n",
        "                 stride,\n",
        "                 padding,\n",
        "                 bias=False,\n",
        "                 inplace=True,\n",
        "                 use_batch_norm=True):\n",
        "        super(ConvBlock, self).__init__()\n",
        "\n",
        "        layers = nn.ModuleList()\n",
        "        layers.append(\n",
        "            nn.Conv2d(in_channels,\n",
        "                      out_channels,\n",
        "                      kernel_size,\n",
        "                      stride,\n",
        "                      padding,\n",
        "                      bias=bias))\n",
        "        if use_batch_norm:\n",
        "            layers.append(nn.BatchNorm2d(out_channels))\n",
        "        layers.append(nn.LeakyReLU(0.2, inplace=inplace))\n",
        "\n",
        "        self.layers = nn.Sequential(*layers)\n",
        "\n",
        "    def forward(self, x):\n",
        "        return self.layers(x)\n",
        "\n",
        "\n",
        "class Discriminator(nn.Module):\n",
        "\n",
        "    def __init__(self, base_channels, in_channels):\n",
        "        super(Discriminator, self).__init__()\n",
        "\n",
        "        self.layers = nn.Sequential(\n",
        "            ConvBlock(in_channels, base_channels, 4, 2, 1),\n",
        "            ConvBlock(base_channels, base_channels * 2, 4, 4, 1),\n",
        "            ConvBlock(base_channels * 2, base_channels * 4, 4, 4, 1),\n",
        "            ConvBlock(base_channels * 4, base_channels * 8, 4, 2, 1),\n",
        "            nn.Conv2d(base_channels * 8, 1, 4, 1, 0, bias=False),\n",
        "            nn.Sigmoid())\n",
        "\n",
        "    def forward(self, x):\n",
        "        return self.layers(x)"
      ],
      "execution_count": 191,
      "outputs": []
    },
    {
      "cell_type": "markdown",
      "metadata": {
        "id": "XhaAjY8rO2Na"
      },
      "source": [
        "#Training"
      ]
    },
    {
      "cell_type": "code",
      "metadata": {
        "id": "oCUK5RG7Uvq7",
        "colab": {
          "base_uri": "https://localhost:8080/"
        },
        "outputId": "6f8210d7-2e68-4166-f8f5-bd95c2071bcf"
      },
      "source": [
        "!pip3 install transformers\n",
        "from transformers import AdamW"
      ],
      "execution_count": 192,
      "outputs": [
        {
          "output_type": "stream",
          "text": [
            "Requirement already satisfied: transformers in /usr/local/lib/python3.7/dist-packages (4.9.2)\n",
            "Requirement already satisfied: requests in /usr/local/lib/python3.7/dist-packages (from transformers) (2.23.0)\n",
            "Requirement already satisfied: pyyaml>=5.1 in /usr/local/lib/python3.7/dist-packages (from transformers) (5.4.1)\n",
            "Requirement already satisfied: sacremoses in /usr/local/lib/python3.7/dist-packages (from transformers) (0.0.45)\n",
            "Requirement already satisfied: huggingface-hub==0.0.12 in /usr/local/lib/python3.7/dist-packages (from transformers) (0.0.12)\n",
            "Requirement already satisfied: filelock in /usr/local/lib/python3.7/dist-packages (from transformers) (3.0.12)\n",
            "Requirement already satisfied: tokenizers<0.11,>=0.10.1 in /usr/local/lib/python3.7/dist-packages (from transformers) (0.10.3)\n",
            "Requirement already satisfied: importlib-metadata in /usr/local/lib/python3.7/dist-packages (from transformers) (4.6.3)\n",
            "Requirement already satisfied: packaging in /usr/local/lib/python3.7/dist-packages (from transformers) (21.0)\n",
            "Requirement already satisfied: regex!=2019.12.17 in /usr/local/lib/python3.7/dist-packages (from transformers) (2019.12.20)\n",
            "Requirement already satisfied: tqdm>=4.27 in /usr/local/lib/python3.7/dist-packages (from transformers) (4.62.0)\n",
            "Requirement already satisfied: numpy>=1.17 in /usr/local/lib/python3.7/dist-packages (from transformers) (1.19.5)\n",
            "Requirement already satisfied: typing-extensions in /usr/local/lib/python3.7/dist-packages (from huggingface-hub==0.0.12->transformers) (3.7.4.3)\n",
            "Requirement already satisfied: pyparsing>=2.0.2 in /usr/local/lib/python3.7/dist-packages (from packaging->transformers) (2.4.7)\n",
            "Requirement already satisfied: zipp>=0.5 in /usr/local/lib/python3.7/dist-packages (from importlib-metadata->transformers) (3.5.0)\n",
            "Requirement already satisfied: chardet<4,>=3.0.2 in /usr/local/lib/python3.7/dist-packages (from requests->transformers) (3.0.4)\n",
            "Requirement already satisfied: certifi>=2017.4.17 in /usr/local/lib/python3.7/dist-packages (from requests->transformers) (2021.5.30)\n",
            "Requirement already satisfied: urllib3!=1.25.0,!=1.25.1,<1.26,>=1.21.1 in /usr/local/lib/python3.7/dist-packages (from requests->transformers) (1.24.3)\n",
            "Requirement already satisfied: idna<3,>=2.5 in /usr/local/lib/python3.7/dist-packages (from requests->transformers) (2.10)\n",
            "Requirement already satisfied: click in /usr/local/lib/python3.7/dist-packages (from sacremoses->transformers) (7.1.2)\n",
            "Requirement already satisfied: joblib in /usr/local/lib/python3.7/dist-packages (from sacremoses->transformers) (1.0.1)\n",
            "Requirement already satisfied: six in /usr/local/lib/python3.7/dist-packages (from sacremoses->transformers) (1.15.0)\n"
          ],
          "name": "stdout"
        }
      ]
    },
    {
      "cell_type": "code",
      "metadata": {
        "id": "375c4xlGPwAe"
      },
      "source": [
        "def weighted_loss(x, target, toleracy=0.3, penalty=100):\n",
        "    criterion = nn.MSELoss(reduction='none')\n",
        "    a = x\n",
        "    b = target\n",
        "    c = b * a\n",
        "    l1 = criterion(c, b) * penalty\n",
        "    d = (1 - b) * a\n",
        "    l2 = criterion(d, b) * toleracy\n",
        "    l = l1 + l2\n",
        "    return l.mean()"
      ],
      "execution_count": 193,
      "outputs": []
    },
    {
      "cell_type": "code",
      "metadata": {
        "colab": {
          "base_uri": "https://localhost:8080/"
        },
        "id": "-GO9XmCqigbQ",
        "outputId": "e1813d2d-d0f5-4cdb-8635-cf849dcade42"
      },
      "source": [
        "discriminator_channels = 64\n",
        "\n",
        "discriminator = Discriminator(discriminator_channels, 3)\n",
        "if (device.type == 'cuda' and ngpu > 0):\n",
        "    discriminator = nn.DataParallel(discriminator, list(range(ngpu)))\n",
        "\n",
        "discriminator"
      ],
      "execution_count": 194,
      "outputs": [
        {
          "output_type": "execute_result",
          "data": {
            "text/plain": [
              "DataParallel(\n",
              "  (module): Discriminator(\n",
              "    (layers): Sequential(\n",
              "      (0): ConvBlock(\n",
              "        (layers): Sequential(\n",
              "          (0): Conv2d(3, 64, kernel_size=(4, 4), stride=(2, 2), padding=(1, 1), bias=False)\n",
              "          (1): BatchNorm2d(64, eps=1e-05, momentum=0.1, affine=True, track_running_stats=True)\n",
              "          (2): LeakyReLU(negative_slope=0.2, inplace=True)\n",
              "        )\n",
              "      )\n",
              "      (1): ConvBlock(\n",
              "        (layers): Sequential(\n",
              "          (0): Conv2d(64, 128, kernel_size=(4, 4), stride=(4, 4), padding=(1, 1), bias=False)\n",
              "          (1): BatchNorm2d(128, eps=1e-05, momentum=0.1, affine=True, track_running_stats=True)\n",
              "          (2): LeakyReLU(negative_slope=0.2, inplace=True)\n",
              "        )\n",
              "      )\n",
              "      (2): ConvBlock(\n",
              "        (layers): Sequential(\n",
              "          (0): Conv2d(128, 256, kernel_size=(4, 4), stride=(4, 4), padding=(1, 1), bias=False)\n",
              "          (1): BatchNorm2d(256, eps=1e-05, momentum=0.1, affine=True, track_running_stats=True)\n",
              "          (2): LeakyReLU(negative_slope=0.2, inplace=True)\n",
              "        )\n",
              "      )\n",
              "      (3): ConvBlock(\n",
              "        (layers): Sequential(\n",
              "          (0): Conv2d(256, 512, kernel_size=(4, 4), stride=(2, 2), padding=(1, 1), bias=False)\n",
              "          (1): BatchNorm2d(512, eps=1e-05, momentum=0.1, affine=True, track_running_stats=True)\n",
              "          (2): LeakyReLU(negative_slope=0.2, inplace=True)\n",
              "        )\n",
              "      )\n",
              "      (4): Conv2d(512, 1, kernel_size=(4, 4), stride=(1, 1), bias=False)\n",
              "      (5): Sigmoid()\n",
              "    )\n",
              "  )\n",
              ")"
            ]
          },
          "metadata": {
            "tags": []
          },
          "execution_count": 194
        }
      ]
    },
    {
      "cell_type": "code",
      "metadata": {
        "colab": {
          "base_uri": "https://localhost:8080/"
        },
        "id": "xuMs0Zqai5Qy",
        "outputId": "765645e0-2e56-456f-c992-973655c569e6"
      },
      "source": [
        "from torch.utils.data.dataset import random_split\n",
        "\n",
        "EPOCHS = 10\n",
        "LR = 1e-4\n",
        "disc_LR = 1e-8\n",
        "beta1 = 0.5\n",
        "beta2 = 0.999\n",
        "generator_losses = []\n",
        "discriminator_losses = []\n",
        "\n",
        "criterion = nn.MSELoss()\n",
        "optimizer = AdamW(model.parameters(), lr=LR, eps=1e-8)\n",
        "discriminator_optim = torch.optim.Adam(discriminator.parameters(),\n",
        "                                       lr=disc_LR,\n",
        "                                       betas=(beta1, beta2))\n",
        "scheduler = torch.optim.lr_scheduler.StepLR(optimizer, 1e-2, gamma=1e-6)\n",
        "device = torch.device('cuda:0')\n",
        " \n",
        "for epoch in range(1, EPOCHS + 1):\n",
        "    for i, (img_batch, target_batch) in enumerate(canny_dataloader):\n",
        "        discriminator.zero_grad()\n",
        "        batch_size = target_batch.size(0)\n",
        "        real_labels = (1.2 - 0.7) * torch.rand((batch_size,)) + 0.7\n",
        "        real_labels = real_labels.to(device)\n",
        "        target_batch = target_batch.to(device)\n",
        "        output = discriminator(target_batch).view(-1)\n",
        "        discriminator_real_loss = criterion(output, real_labels)\n",
        "        discriminator_real_loss.backward()\n",
        "        D_x = output.mean().item()\n",
        "\n",
        "        fake_batch = model(target_batch)\n",
        "        fake_labels = (0.3 - 0.0) * torch.rand((batch_size,)) + 0.0\n",
        "        fake_labels = fake_labels.to(device)\n",
        "        output = discriminator(fake_batch.detach()).view(-1)\n",
        "        discriminator_fake_loss = criterion(output, fake_labels)\n",
        "        discriminator_fake_loss.backward()\n",
        "        D_G_z1 = discriminator_fake_loss.mean().item()\n",
        "        discriminator_loss = discriminator_real_loss + discriminator_fake_loss\n",
        "        discriminator_optim.step()\n",
        "\n",
        "        model.zero_grad()\n",
        "        output = discriminator(fake_batch).view(-1)\n",
        "        gen_output = model(target_batch)\n",
        "        generator_loss = criterion(output, real_labels)\n",
        "        generator_w_loss = weighted_loss(gen_output, target_batch, 100, 1) * generator_loss\n",
        "        generator_w_loss.backward()\n",
        "        D_G_z2 = output.mean().item()\n",
        "        optimizer.step()\n",
        "        print(f'BATCH: {i+1}')\n",
        "        if (i + 1) == 25: break\n",
        "        discriminator_losses.append(discriminator_loss.item())\n",
        "        generator_losses.append(generator_loss.item())\n",
        "    if not epoch % 5:\n",
        "        torch.save(model.state_dict(), 'drive/MyDrive/checkpoint2.pth')\n",
        "    print(\n",
        "        f'{epoch}: Loss_D:{discriminator_loss.item():4f} Loss_G:{generator_loss.item():4f} D(x):{D_x:4f} D(G(z)):{D_G_z1:4f}/{D_G_z2:4f}'\n",
        "    )\n",
        "\n",
        "torch.save(model.state_dict(), 'drive/MyDrive/checkpoint2.pth')"
      ],
      "execution_count": 220,
      "outputs": [
        {
          "output_type": "stream",
          "text": [
            "/usr/local/lib/python3.7/dist-packages/torch/_tensor.py:490: UserWarning: non-inplace resize is deprecated\n",
            "  warnings.warn(\"non-inplace resize is deprecated\")\n"
          ],
          "name": "stderr"
        },
        {
          "output_type": "stream",
          "text": [
            "BATCH: 1\n",
            "BATCH: 2\n",
            "BATCH: 3\n",
            "BATCH: 4\n",
            "BATCH: 5\n",
            "BATCH: 6\n",
            "BATCH: 7\n",
            "BATCH: 8\n",
            "BATCH: 9\n",
            "BATCH: 10\n",
            "BATCH: 11\n",
            "BATCH: 12\n",
            "BATCH: 13\n",
            "BATCH: 14\n",
            "BATCH: 15\n",
            "BATCH: 16\n",
            "BATCH: 17\n",
            "BATCH: 18\n",
            "BATCH: 19\n",
            "BATCH: 20\n",
            "BATCH: 21\n",
            "BATCH: 22\n",
            "BATCH: 23\n",
            "BATCH: 24\n",
            "BATCH: 25\n",
            "1: Loss_D:0.403256 Loss_G:0.180071 D(x):0.490277 D(G(z)):0.167738/0.555451\n",
            "BATCH: 1\n",
            "BATCH: 2\n",
            "BATCH: 3\n",
            "BATCH: 4\n",
            "BATCH: 5\n",
            "BATCH: 6\n",
            "BATCH: 7\n",
            "BATCH: 8\n",
            "BATCH: 9\n",
            "BATCH: 10\n",
            "BATCH: 11\n",
            "BATCH: 12\n",
            "BATCH: 13\n",
            "BATCH: 14\n",
            "BATCH: 15\n",
            "BATCH: 16\n",
            "BATCH: 17\n",
            "BATCH: 18\n",
            "BATCH: 19\n",
            "BATCH: 20\n",
            "BATCH: 21\n",
            "BATCH: 22\n",
            "BATCH: 23\n",
            "BATCH: 24\n",
            "BATCH: 25\n",
            "2: Loss_D:0.442050 Loss_G:0.180742 D(x):0.512200 D(G(z)):0.218599/0.562924\n",
            "BATCH: 1\n",
            "BATCH: 2\n",
            "BATCH: 3\n",
            "BATCH: 4\n",
            "BATCH: 5\n",
            "BATCH: 6\n",
            "BATCH: 7\n",
            "BATCH: 8\n",
            "BATCH: 9\n",
            "BATCH: 10\n",
            "BATCH: 11\n",
            "BATCH: 12\n",
            "BATCH: 13\n",
            "BATCH: 14\n",
            "BATCH: 15\n",
            "BATCH: 16\n",
            "BATCH: 17\n",
            "BATCH: 18\n",
            "BATCH: 19\n",
            "BATCH: 20\n",
            "BATCH: 21\n",
            "BATCH: 22\n",
            "BATCH: 23\n",
            "BATCH: 24\n",
            "BATCH: 25\n",
            "3: Loss_D:0.456182 Loss_G:0.168414 D(x):0.497289 D(G(z)):0.208340/0.586415\n",
            "BATCH: 1\n",
            "BATCH: 2\n",
            "BATCH: 3\n",
            "BATCH: 4\n",
            "BATCH: 5\n",
            "BATCH: 6\n",
            "BATCH: 7\n",
            "BATCH: 8\n",
            "BATCH: 9\n",
            "BATCH: 10\n",
            "BATCH: 11\n",
            "BATCH: 12\n",
            "BATCH: 13\n",
            "BATCH: 14\n",
            "BATCH: 15\n",
            "BATCH: 16\n",
            "BATCH: 17\n",
            "BATCH: 18\n",
            "BATCH: 19\n",
            "BATCH: 20\n",
            "BATCH: 21\n",
            "BATCH: 22\n",
            "BATCH: 23\n",
            "BATCH: 24\n",
            "BATCH: 25\n",
            "4: Loss_D:0.517464 Loss_G:0.115365 D(x):0.470016 D(G(z)):0.265670/0.644193\n",
            "BATCH: 1\n",
            "BATCH: 2\n",
            "BATCH: 3\n",
            "BATCH: 4\n",
            "BATCH: 5\n",
            "BATCH: 6\n",
            "BATCH: 7\n",
            "BATCH: 8\n",
            "BATCH: 9\n",
            "BATCH: 10\n",
            "BATCH: 11\n",
            "BATCH: 12\n",
            "BATCH: 13\n",
            "BATCH: 14\n",
            "BATCH: 15\n",
            "BATCH: 16\n",
            "BATCH: 17\n",
            "BATCH: 18\n",
            "BATCH: 19\n",
            "BATCH: 20\n",
            "BATCH: 21\n",
            "BATCH: 22\n",
            "BATCH: 23\n",
            "BATCH: 24\n",
            "BATCH: 25\n",
            "5: Loss_D:0.362578 Loss_G:0.213742 D(x):0.505022 D(G(z)):0.140403/0.504494\n",
            "BATCH: 1\n",
            "BATCH: 2\n",
            "BATCH: 3\n",
            "BATCH: 4\n",
            "BATCH: 5\n",
            "BATCH: 6\n",
            "BATCH: 7\n",
            "BATCH: 8\n",
            "BATCH: 9\n",
            "BATCH: 10\n",
            "BATCH: 11\n",
            "BATCH: 12\n",
            "BATCH: 13\n",
            "BATCH: 14\n",
            "BATCH: 15\n",
            "BATCH: 16\n",
            "BATCH: 17\n",
            "BATCH: 18\n",
            "BATCH: 19\n",
            "BATCH: 20\n",
            "BATCH: 21\n",
            "BATCH: 22\n",
            "BATCH: 23\n",
            "BATCH: 24\n",
            "BATCH: 25\n",
            "6: Loss_D:0.388833 Loss_G:0.195901 D(x):0.499450 D(G(z)):0.154901/0.541322\n",
            "BATCH: 1\n",
            "BATCH: 2\n",
            "BATCH: 3\n",
            "BATCH: 4\n",
            "BATCH: 5\n",
            "BATCH: 6\n",
            "BATCH: 7\n",
            "BATCH: 8\n",
            "BATCH: 9\n",
            "BATCH: 10\n",
            "BATCH: 11\n",
            "BATCH: 12\n",
            "BATCH: 13\n",
            "BATCH: 14\n",
            "BATCH: 15\n",
            "BATCH: 16\n",
            "BATCH: 17\n",
            "BATCH: 18\n",
            "BATCH: 19\n",
            "BATCH: 20\n",
            "BATCH: 21\n",
            "BATCH: 22\n",
            "BATCH: 23\n",
            "BATCH: 24\n",
            "BATCH: 25\n",
            "7: Loss_D:0.404485 Loss_G:0.137978 D(x):0.483244 D(G(z)):0.190935/0.575724\n",
            "BATCH: 1\n",
            "BATCH: 2\n",
            "BATCH: 3\n",
            "BATCH: 4\n",
            "BATCH: 5\n",
            "BATCH: 6\n",
            "BATCH: 7\n",
            "BATCH: 8\n",
            "BATCH: 9\n",
            "BATCH: 10\n",
            "BATCH: 11\n",
            "BATCH: 12\n",
            "BATCH: 13\n",
            "BATCH: 14\n",
            "BATCH: 15\n",
            "BATCH: 16\n",
            "BATCH: 17\n",
            "BATCH: 18\n",
            "BATCH: 19\n",
            "BATCH: 20\n",
            "BATCH: 21\n",
            "BATCH: 22\n",
            "BATCH: 23\n",
            "BATCH: 24\n",
            "BATCH: 25\n",
            "8: Loss_D:0.513982 Loss_G:0.103140 D(x):0.500926 D(G(z)):0.288082/0.680729\n",
            "BATCH: 1\n",
            "BATCH: 2\n",
            "BATCH: 3\n",
            "BATCH: 4\n",
            "BATCH: 5\n",
            "BATCH: 6\n",
            "BATCH: 7\n",
            "BATCH: 8\n",
            "BATCH: 9\n",
            "BATCH: 10\n",
            "BATCH: 11\n",
            "BATCH: 12\n",
            "BATCH: 13\n",
            "BATCH: 14\n",
            "BATCH: 15\n",
            "BATCH: 16\n",
            "BATCH: 17\n",
            "BATCH: 18\n",
            "BATCH: 19\n",
            "BATCH: 20\n",
            "BATCH: 21\n",
            "BATCH: 22\n",
            "BATCH: 23\n",
            "BATCH: 24\n",
            "BATCH: 25\n",
            "9: Loss_D:0.497626 Loss_G:0.096066 D(x):0.504379 D(G(z)):0.278746/0.682811\n",
            "BATCH: 1\n",
            "BATCH: 2\n",
            "BATCH: 3\n",
            "BATCH: 4\n",
            "BATCH: 5\n",
            "BATCH: 6\n",
            "BATCH: 7\n",
            "BATCH: 8\n",
            "BATCH: 9\n",
            "BATCH: 10\n",
            "BATCH: 11\n",
            "BATCH: 12\n",
            "BATCH: 13\n",
            "BATCH: 14\n",
            "BATCH: 15\n",
            "BATCH: 16\n",
            "BATCH: 17\n",
            "BATCH: 18\n",
            "BATCH: 19\n",
            "BATCH: 20\n",
            "BATCH: 21\n",
            "BATCH: 22\n",
            "BATCH: 23\n",
            "BATCH: 24\n",
            "BATCH: 25\n",
            "10: Loss_D:0.495391 Loss_G:0.089011 D(x):0.528561 D(G(z)):0.290875/0.688757\n"
          ],
          "name": "stdout"
        }
      ]
    },
    {
      "cell_type": "markdown",
      "metadata": {
        "id": "gckhggY-q46x"
      },
      "source": [
        "#Results"
      ]
    },
    {
      "cell_type": "code",
      "metadata": {
        "id": "neUUxcgwq8Da"
      },
      "source": [
        "import matplotlib.pyplot as plt"
      ],
      "execution_count": 221,
      "outputs": []
    },
    {
      "cell_type": "code",
      "metadata": {
        "id": "XgxpOockkzj9",
        "colab": {
          "base_uri": "https://localhost:8080/",
          "height": 367
        },
        "outputId": "32cd4801-878b-4b62-f59e-433d2fed463c"
      },
      "source": [
        "plt.figure(figsize=(10, 5))\n",
        "plt.subplot(1,2,1)\n",
        "plt.title(\"Generator Loss During Training\")\n",
        "plt.plot(generator_losses)\n",
        "plt.xlabel(\"iterations\")\n",
        "plt.ylabel(\"Loss\")\n",
        "plt.subplot(1,2,2)\n",
        "plt.title(\"Discriminator Loss During Training\")\n",
        "plt.plot(discriminator_losses)\n",
        "plt.xlabel(\"iterations\")\n",
        "plt.ylabel(\"Loss\")\n",
        "plt.legend()\n",
        "plt.show()"
      ],
      "execution_count": 222,
      "outputs": [
        {
          "output_type": "stream",
          "text": [
            "No handles with labels found to put in legend.\n"
          ],
          "name": "stderr"
        },
        {
          "output_type": "display_data",
          "data": {
            "image/png": "[encoded data removed]",
            "text/plain": [
              "<Figure size 720x360 with 2 Axes>"
            ]
          },
          "metadata": {
            "tags": [],
            "needs_background": "light"
          }
        }
      ]
    },
    {
      "cell_type": "markdown",
      "metadata": {
        "id": "BPbCrv6InpDo"
      },
      "source": [
        "#Evaluation"
      ]
    },
    {
      "cell_type": "code",
      "metadata": {
        "id": "QCvLaEM7nobX"
      },
      "source": [
        "def check_by_index(model, index):\n",
        "    item = canny_dataset.__getitem__(index)\n",
        "    im = item[0]\n",
        "    target = item[1]\n",
        "    model.eval()\n",
        "    out = model(im.to(device).unsqueeze(0))\n",
        "    print(model.points)\n",
        "    img = transforms.ToPILImage()(out[0])\n",
        "    loss = criterion(out[0], (target).to(device))\n",
        "    print(criterion._get_name(), loss)\n",
        "    return img, transforms.ToPILImage()(out[0]+target.to(device)), out, transforms.ToPILImage()(target)"
      ],
      "execution_count": 198,
      "outputs": []
    },
    {
      "cell_type": "code",
      "metadata": {
        "id": "0A-ybaK_nsjh",
        "colab": {
          "base_uri": "https://localhost:8080/"
        },
        "outputId": "3255f61f-3e65-4fdf-c7cb-b37b1fb91380"
      },
      "source": [
        "criterion = nn.MSELoss()\n",
        "res = check_by_index(model, 19390)"
      ],
      "execution_count": 216,
      "outputs": [
        {
          "output_type": "stream",
          "text": [
            "tensor([[ 79.8301,  75.1928,  57.0127, 254.2853, 254.3718,  93.8013,  86.3812,\n",
            "         216.8847,  83.4151,  98.7758,  80.0977,  49.5230,  25.8358,  25.4987,\n",
            "          36.8050,  71.6857, 254.6478,  56.0812, 252.9739, 254.8813, 151.5805,\n",
            "          88.4707,  75.5773, 254.9260, 252.7540, 179.1629,  84.8681,  74.4672,\n",
            "         254.9613,  35.6724, 104.7035, 241.6973,  92.6273, 253.0944,  87.1947,\n",
            "          41.2979,  71.2855, 244.0101, 254.8034, 226.3545,  80.0274,  61.3650,\n",
            "          69.9618,  58.0873,  47.5097,  84.2796, 224.3900,  52.6066, 250.9386,\n",
            "         254.9309,  94.2672, 253.5678,  58.2932, 253.7330,  37.8854, 253.9611,\n",
            "          31.3139,  37.4143,  80.8113, 254.2059, 241.7065, 252.8824, 247.1947,\n",
            "          67.3074, 239.8883, 251.4075, 254.4168, 233.2750, 247.4676,  58.6904,\n",
            "          80.0171,  90.1171, 253.5813,  73.1881,  37.4321, 240.2137, 251.6294,\n",
            "         219.3718, 252.6181,  64.5543]], device='cuda:0',\n",
            "       grad_fn=<MulBackward0>)\n",
            "MSELoss tensor(0.2367, device='cuda:0', grad_fn=<MseLossBackward>)\n"
          ],
          "name": "stdout"
        },
        {
          "output_type": "stream",
          "text": [
            "/usr/local/lib/python3.7/dist-packages/torch/_tensor.py:490: UserWarning: non-inplace resize is deprecated\n",
            "  warnings.warn(\"non-inplace resize is deprecated\")\n"
          ],
          "name": "stderr"
        }
      ]
    },
    {
      "cell_type": "code",
      "metadata": {
        "id": "hdt3qao3pAfl",
        "colab": {
          "base_uri": "https://localhost:8080/",
          "height": 273
        },
        "outputId": "58e4c726-eed8-4c29-9729-c2d949289a9b"
      },
      "source": [
        "res[0]"
      ],
      "execution_count": 217,
      "outputs": [
        {
          "output_type": "execute_result",
          "data": {
            "image/png": "[encoded data removed]",
            "text/plain": [
              "<PIL.Image.Image image mode=RGB size=256x256 at 0x7F86DAFE3E10>"
            ]
          },
          "metadata": {
            "tags": []
          },
          "execution_count": 217
        }
      ]
    },
    {
      "cell_type": "code",
      "metadata": {
        "id": "kcMAxor8p0AG",
        "colab": {
          "base_uri": "https://localhost:8080/",
          "height": 273
        },
        "outputId": "26bb594a-9261-4fea-99d2-b07a092f1663"
      },
      "source": [
        "res[1]"
      ],
      "execution_count": 218,
      "outputs": [
        {
          "output_type": "execute_result",
          "data": {
            "image/png": "[encoded data removed]",
            "text/plain": [
              "<PIL.Image.Image image mode=RGB size=256x256 at 0x7F86DAFE3050>"
            ]
          },
          "metadata": {
            "tags": []
          },
          "execution_count": 218
        }
      ]
    },
    {
      "cell_type": "code",
      "metadata": {
        "id": "SRJF3AmrsL5Q",
        "colab": {
          "base_uri": "https://localhost:8080/",
          "height": 273
        },
        "outputId": "2ca99d30-aae5-4bfb-b9ce-e69140b4c40d"
      },
      "source": [
        "res[3]"
      ],
      "execution_count": 219,
      "outputs": [
        {
          "output_type": "execute_result",
          "data": {
            "image/png": "[encoded data removed]",
            "text/plain": [
              "<PIL.Image.Image image mode=RGB size=256x256 at 0x7F86DA6907D0>"
            ]
          },
          "metadata": {
            "tags": []
          },
          "execution_count": 219
        }
      ]
    },
    {
      "cell_type": "code",
      "metadata": {
        "id": "oa2BuwDzH3FS"
      },
      "source": [
        ""
      ],
      "execution_count": 202,
      "outputs": []
    }
  ]
}